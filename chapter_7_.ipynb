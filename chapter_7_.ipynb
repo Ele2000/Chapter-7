{
  "nbformat": 4,
  "nbformat_minor": 0,
  "metadata": {
    "colab": {
      "name": "chapter 7 .ipynb",
      "provenance": [],
      "collapsed_sections": [],
      "authorship_tag": "ABX9TyPcB3y4mKEFYgXwQo3Qlrh4",
      "include_colab_link": true
    },
    "kernelspec": {
      "name": "python3",
      "display_name": "Python 3"
    },
    "language_info": {
      "name": "python"
    }
  },
  "cells": [
    {
      "cell_type": "markdown",
      "metadata": {
        "id": "view-in-github",
        "colab_type": "text"
      },
      "source": [
        "<a href=\"https://colab.research.google.com/github/Ele2000/Chapter-7/blob/main/chapter_7_.ipynb\" target=\"_parent\"><img src=\"https://colab.research.google.com/assets/colab-badge.svg\" alt=\"Open In Colab\"/></a>"
      ]
    },
    {
      "cell_type": "code",
      "metadata": {
        "id": "3Q5zTrPfg3ni"
      },
      "source": [
        ""
      ],
      "execution_count": null,
      "outputs": []
    },
    {
      "cell_type": "markdown",
      "metadata": {
        "id": "rzUVTpG3g4YY"
      },
      "source": [
        "Rental Car"
      ]
    },
    {
      "cell_type": "code",
      "metadata": {
        "colab": {
          "base_uri": "https://localhost:8080/"
        },
        "id": "Odod3i4Jg6X0",
        "outputId": "13321da0-833b-4fc4-d956-f49def9db006"
      },
      "source": [
        "cars = input('What kind of rental car you would like? ')\n",
        "print('Let me find you a ' + cars )"
      ],
      "execution_count": 2,
      "outputs": [
        {
          "output_type": "stream",
          "name": "stdout",
          "text": [
            "What kind of rental car you would like? BMW\n",
            "Let me find you a BMW\n"
          ]
        }
      ]
    },
    {
      "cell_type": "markdown",
      "metadata": {
        "id": "0mxqYkYDg9pP"
      },
      "source": [
        "Restaurant Seating"
      ]
    },
    {
      "cell_type": "code",
      "metadata": {
        "colab": {
          "base_uri": "https://localhost:8080/"
        },
        "id": "cn6vpUShhAAd",
        "outputId": "37670ad0-2d6d-473f-994a-6955cbd4be98"
      },
      "source": [
        "seatings = input('How many people are in your dinner group? ')\n",
        "seatings = int(seatings)\n",
        "if seatings >= 8:\n",
        "  print('You will have to wait for a table ')\n",
        "else:\n",
        "  print('Take your seats. ')"
      ],
      "execution_count": 3,
      "outputs": [
        {
          "output_type": "stream",
          "name": "stdout",
          "text": [
            "How many people are in your dinner group? 3\n",
            "Take your seats. \n"
          ]
        }
      ]
    },
    {
      "cell_type": "markdown",
      "metadata": {
        "id": "rFI8vmoqhNVB"
      },
      "source": [
        "Multiples of Ten"
      ]
    },
    {
      "cell_type": "code",
      "metadata": {
        "colab": {
          "base_uri": "https://localhost:8080/"
        },
        "id": "2xLErbrMhXsQ",
        "outputId": "85c0b235-7476-477b-d863-2c10f9bbd8f0"
      },
      "source": [
        "number = input('Enter a number, and I will tell you if it is multiple of 10 or not')\n",
        "number = int(number)\n",
        "if number % 10 == 0:\n",
        "  print('the number ' + str(number) + 'is multiple of 10. ')\n",
        "else:\n",
        "  print('the number ' + str(number) + 'is not multiple of 10. ')"
      ],
      "execution_count": 5,
      "outputs": [
        {
          "output_type": "stream",
          "name": "stdout",
          "text": [
            "Enter a number, and I will tell you if it is multiple of 10 or not15\n",
            "the number 15is not multiple of 10. \n"
          ]
        }
      ]
    },
    {
      "cell_type": "markdown",
      "metadata": {
        "id": "WErEEKjGhmLR"
      },
      "source": [
        "Pizza Toppings"
      ]
    },
    {
      "cell_type": "code",
      "metadata": {
        "colab": {
          "base_uri": "https://localhost:8080/"
        },
        "id": "PitzY7pfht4-",
        "outputId": "d5b3405e-885d-4119-b745-9343b8cdb9b9"
      },
      "source": [
        "prompt = \"Please enter the name of the pizza topping you wanna. \"\n",
        "prompt += \"\\n Enter 'quit' when you are done. \"\n",
        "while True:\n",
        "  topping = input(prompt)\n",
        "  if topping == 'quit':\n",
        "    break\n",
        "  else:\n",
        "    print('I will add that topping to your pizza')"
      ],
      "execution_count": 6,
      "outputs": [
        {
          "name": "stdout",
          "output_type": "stream",
          "text": [
            "Please enter the name of the pizza topping you wanna. \n",
            " Enter 'quit' when you are done. Margarita\n",
            "I will add that topping to your pizza\n",
            "Please enter the name of the pizza topping you wanna. \n",
            " Enter 'quit' when you are done. cheese\n",
            "I will add that topping to your pizza\n",
            "Please enter the name of the pizza topping you wanna. \n",
            " Enter 'quit' when you are done. potato\n",
            "I will add that topping to your pizza\n",
            "Please enter the name of the pizza topping you wanna. \n",
            " Enter 'quit' when you are done. extra cheese\n",
            "I will add that topping to your pizza\n",
            "Please enter the name of the pizza topping you wanna. \n",
            " Enter 'quit' when you are done. quit\n"
          ]
        }
      ]
    },
    {
      "cell_type": "markdown",
      "metadata": {
        "id": "PjBTovnOigQR"
      },
      "source": [
        "Movie Tickets\n"
      ]
    },
    {
      "cell_type": "code",
      "metadata": {
        "colab": {
          "base_uri": "https://localhost:8080/"
        },
        "id": "j0VPsybKikCX",
        "outputId": "de25b005-d1c6-45ee-8fbc-f98ace3d4672"
      },
      "source": [
        "prompt = \"Please enter your age.  \"\n",
        "prompt += \"enter 'quit' when you are done\"\n",
        "while True: \n",
        "  age = input(prompt)\n",
        "  if age == 'quit':\n",
        "    break\n",
        "  age = int(age)\n",
        "  if age < 3:\n",
        "        print(\"  You get in free!\")\n",
        "  elif age < 13:\n",
        "        print(\"  Your ticket is $10.\")\n",
        "  else:\n",
        "        print(\"  Your ticket is $15.\")"
      ],
      "execution_count": 7,
      "outputs": [
        {
          "name": "stdout",
          "output_type": "stream",
          "text": [
            "Please enter your age.  enter 'quit' when you are done21\n",
            "  Your ticket is $15.\n",
            "Please enter your age.  enter 'quit' when you are done15\n",
            "  Your ticket is $15.\n",
            "Please enter your age.  enter 'quit' when you are done10\n",
            "  Your ticket is $10.\n",
            "Please enter your age.  enter 'quit' when you are done5\n",
            "  Your ticket is $10.\n",
            "Please enter your age.  enter 'quit' when you are done2\n",
            "  You get in free!\n",
            "Please enter your age.  enter 'quit' when you are donequit\n"
          ]
        }
      ]
    },
    {
      "cell_type": "markdown",
      "metadata": {
        "id": "edU0FNTLi4rw"
      },
      "source": [
        "Deli"
      ]
    },
    {
      "cell_type": "code",
      "metadata": {
        "colab": {
          "base_uri": "https://localhost:8080/"
        },
        "id": "cLrJPoyni5fG",
        "outputId": "f671c059-5828-400e-cbdd-fd9fc45d57c2"
      },
      "source": [
        "sandwich_orders = ['salmon', 'avocado', 'veggie', 'potato']\n",
        "finished_sandwiches = []\n",
        "while sandwich_orders:\n",
        "    current_sandwich = sandwich_orders.pop()\n",
        "    print(f\"I'm working on your {current_sandwich} sandwich.\")\n",
        "    finished_sandwiches.append(current_sandwich)\n",
        "for sandwich in finished_sandwiches:\n",
        "    print(f\"I made a {sandwich} sandwich.\")"
      ],
      "execution_count": 9,
      "outputs": [
        {
          "output_type": "stream",
          "name": "stdout",
          "text": [
            "I'm working on your potato sandwich.\n",
            "I'm working on your veggie sandwich.\n",
            "I'm working on your avocado sandwich.\n",
            "I'm working on your salmon sandwich.\n",
            "I made a potato sandwich.\n",
            "I made a veggie sandwich.\n",
            "I made a avocado sandwich.\n",
            "I made a salmon sandwich.\n"
          ]
        }
      ]
    },
    {
      "cell_type": "markdown",
      "metadata": {
        "id": "SwiRna9tjMiA"
      },
      "source": [
        "No Pastrami"
      ]
    },
    {
      "cell_type": "code",
      "metadata": {
        "colab": {
          "base_uri": "https://localhost:8080/"
        },
        "id": "ytOjXrBKjPek",
        "outputId": "b2883f5d-86f9-4783-fe32-fbd20ce72aca"
      },
      "source": [
        "sandwich_orders = [\n",
        "    'pastrami', 'veggie', 'grilled cheese', 'pastrami',\n",
        "    'turkey', 'roast beef', 'pastrami']\n",
        "finished_sandwiches = []\n",
        "\n",
        "print(\"I'm sorry, we're all out of pastrami today.\")\n",
        "while 'pastrami' in sandwich_orders:\n",
        "    sandwich_orders.remove('pastrami')\n",
        "\n",
        "while sandwich_orders:\n",
        "    current_sandwich = sandwich_orders.pop()\n",
        "    print(f\"I'm working on your {current_sandwich} sandwich.\")\n",
        "    finished_sandwiches.append(current_sandwich)\n",
        "\n",
        "for sandwich in finished_sandwiches:\n",
        "    print(f\"I made a {sandwich} sandwich.\")"
      ],
      "execution_count": 10,
      "outputs": [
        {
          "output_type": "stream",
          "name": "stdout",
          "text": [
            "I'm sorry, we're all out of pastrami today.\n",
            "I'm working on your roast beef sandwich.\n",
            "I'm working on your turkey sandwich.\n",
            "I'm working on your grilled cheese sandwich.\n",
            "I'm working on your veggie sandwich.\n",
            "I made a roast beef sandwich.\n",
            "I made a turkey sandwich.\n",
            "I made a grilled cheese sandwich.\n",
            "I made a veggie sandwich.\n"
          ]
        }
      ]
    },
    {
      "cell_type": "markdown",
      "metadata": {
        "id": "V4adTEdMjdcy"
      },
      "source": [
        "Dream Vacation"
      ]
    },
    {
      "cell_type": "code",
      "metadata": {
        "colab": {
          "base_uri": "https://localhost:8080/"
        },
        "id": "hwWIc7-zjgrU",
        "outputId": "81fcf43b-1cc7-4527-ebed-62a6ba2c047c"
      },
      "source": [
        "name_prompt = \"\\nWhat's your name? \"\n",
        "place_prompt = \"If you could visit one place in the world, where would it be? \"\n",
        "continue_prompt = \"\\nWould you like to let someone else respond? (yes/no) \"\n",
        "\n",
        "responses = {}\n",
        "\n",
        "while True:\n",
        "  \n",
        "    name = input(name_prompt)\n",
        "    place = input(place_prompt)\n",
        "\n",
        "    responses[name] = place\n",
        "    \n",
        "    repeat = input(continue_prompt)\n",
        "    if repeat != 'yes':\n",
        "        break\n",
        "\n",
        "print(\"\\n--- Results ---\")\n",
        "for name, place in responses.items():\n",
        "    print(f\"{name.title()} would like to visit {place.title()}.\")"
      ],
      "execution_count": 11,
      "outputs": [
        {
          "output_type": "stream",
          "name": "stdout",
          "text": [
            "\n",
            "What's your name? Elene\n",
            "If you could visit one place in the world, where would it be? Maldives\n",
            "\n",
            "Would you like to let someone else respond? (yes/no) yes\n",
            "\n",
            "What's your name? Zura\n",
            "If you could visit one place in the world, where would it be? Rome\n",
            "\n",
            "Would you like to let someone else respond? (yes/no) yes\n",
            "\n",
            "What's your name? Liza\n",
            "If you could visit one place in the world, where would it be? Paris\n",
            "\n",
            "Would you like to let someone else respond? (yes/no) no\n",
            "\n",
            "--- Results ---\n",
            "Elene would like to visit Maldives.\n",
            "Zura would like to visit Rome.\n",
            "Liza would like to visit Paris.\n"
          ]
        }
      ]
    }
  ]
}